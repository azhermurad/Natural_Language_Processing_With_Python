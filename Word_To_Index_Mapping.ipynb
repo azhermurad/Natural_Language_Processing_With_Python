{
 "cells": [
  {
   "cell_type": "markdown",
   "metadata": {},
   "source": [
    "## Word To Index Mapping"
   ]
  },
  {
   "cell_type": "code",
   "execution_count": 64,
   "metadata": {},
   "outputs": [],
   "source": [
    "corpus =  [\n",
    "    \"i like cats\",\n",
    "    \"i love cats\",\n",
    "    \"i love dogs i i i \"\n",
    "]\n",
    "\n",
    "# vocabulary i like cats love dogs\n",
    "\n",
    "vocabulary_size = 0\n",
    "vocabularyIdx = {\n",
    "}\n",
    "\n",
    "vector = []\n",
    "for document in corpus:\n",
    "    for word in document.split():\n",
    "        if word not in vocabularyIdx:\n",
    "            vocabularyIdx[word]=vocabulary_size\n",
    "            vocabulary_size += 1 \n",
    "        "
   ]
  },
  {
   "cell_type": "code",
   "execution_count": 65,
   "metadata": {},
   "outputs": [
    {
     "data": {
      "text/plain": [
       "{'i': 0, 'like': 1, 'cats': 2, 'love': 3, 'dogs': 4}"
      ]
     },
     "execution_count": 65,
     "metadata": {},
     "output_type": "execute_result"
    }
   ],
   "source": [
    "vocabularyIdx"
   ]
  },
  {
   "cell_type": "markdown",
   "metadata": {},
   "source": [
    "## Implementation Of CountVectorizer From Scratch  "
   ]
  },
  {
   "cell_type": "code",
   "execution_count": 66,
   "metadata": {},
   "outputs": [],
   "source": [
    "def CountVectorizer(corpus):\n",
    "    vectors = []\n",
    "    for document in corpus:\n",
    "        doc_vector =vocabulary_size * [0]\n",
    "        for word in document.split():\n",
    "            doc_vector[vocabularyIdx[word]] +=1\n",
    "        vectors.append(doc_vector)\n",
    "    return vectors\n",
    "    "
   ]
  },
  {
   "cell_type": "code",
   "execution_count": 67,
   "metadata": {},
   "outputs": [
    {
     "data": {
      "text/plain": [
       "[[1, 1, 1, 0, 0], [1, 0, 1, 1, 0], [4, 0, 0, 1, 1]]"
      ]
     },
     "execution_count": 67,
     "metadata": {},
     "output_type": "execute_result"
    }
   ],
   "source": [
    "CountVectorizer(corpus)"
   ]
  },
  {
   "cell_type": "code",
   "execution_count": 68,
   "metadata": {},
   "outputs": [
    {
     "data": {
      "text/plain": [
       "{'i': 0, 'like': 1, 'cats': 2, 'love': 3, 'dogs': 4}"
      ]
     },
     "execution_count": 68,
     "metadata": {},
     "output_type": "execute_result"
    }
   ],
   "source": [
    "vocabularyIdx"
   ]
  },
  {
   "cell_type": "code",
   "execution_count": 69,
   "metadata": {},
   "outputs": [
    {
     "data": {
      "text/plain": [
       "['i like cats', 'i love cats', 'i love dogs i i i ']"
      ]
     },
     "execution_count": 69,
     "metadata": {},
     "output_type": "execute_result"
    }
   ],
   "source": [
    "corpus"
   ]
  },
  {
   "cell_type": "code",
   "execution_count": null,
   "metadata": {},
   "outputs": [],
   "source": []
  }
 ],
 "metadata": {
  "kernelspec": {
   "display_name": "base",
   "language": "python",
   "name": "python3"
  },
  "language_info": {
   "codemirror_mode": {
    "name": "ipython",
    "version": 3
   },
   "file_extension": ".py",
   "mimetype": "text/x-python",
   "name": "python",
   "nbconvert_exporter": "python",
   "pygments_lexer": "ipython3",
   "version": "3.12.4"
  }
 },
 "nbformat": 4,
 "nbformat_minor": 2
}

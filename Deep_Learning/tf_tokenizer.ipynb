{
 "cells": [
  {
   "cell_type": "code",
   "execution_count": 50,
   "metadata": {},
   "outputs": [],
   "source": [
    "from tensorflow.keras.preprocessing.text import Tokenizer\n",
    "from tensorflow.keras.preprocessing.sequence import pad_sequences"
   ]
  },
  {
   "cell_type": "code",
   "execution_count": 35,
   "metadata": {},
   "outputs": [
    {
     "data": {
      "text/plain": [
       "[[1, 3, 2], [2, 4, 5, 6], [1, 7, 8, 9, 10]]"
      ]
     },
     "execution_count": 35,
     "metadata": {},
     "output_type": "execute_result"
    }
   ],
   "source": [
    "sentences = [\n",
    "    \"i love books\",\n",
    "    \"books are important part\",\n",
    "    \"i like to play games\"\n",
    "]\n",
    "\n",
    "\n",
    "tokenizer = Tokenizer(num_words=20000)\n",
    "tokenizer.fit_on_texts(sentences)\n",
    "sequence = tokenizer.texts_to_sequences(sentences)\n",
    "sequence\n"
   ]
  },
  {
   "cell_type": "code",
   "execution_count": 36,
   "metadata": {},
   "outputs": [
    {
     "data": {
      "text/plain": [
       "{'i': 1,\n",
       " 'books': 2,\n",
       " 'love': 3,\n",
       " 'are': 4,\n",
       " 'important': 5,\n",
       " 'part': 6,\n",
       " 'like': 7,\n",
       " 'to': 8,\n",
       " 'play': 9,\n",
       " 'games': 10}"
      ]
     },
     "execution_count": 36,
     "metadata": {},
     "output_type": "execute_result"
    }
   ],
   "source": [
    "tokenizer.word_index"
   ]
  },
  {
   "cell_type": "code",
   "execution_count": 43,
   "metadata": {},
   "outputs": [
    {
     "data": {
      "text/plain": [
       "{'num_words': 20000,\n",
       " 'filters': '!\"#$%&()*+,-./:;<=>?@[\\\\]^_`{|}~\\t\\n',\n",
       " 'lower': True,\n",
       " 'split': ' ',\n",
       " 'char_level': False,\n",
       " 'oov_token': None,\n",
       " 'document_count': 3,\n",
       " 'word_counts': '{\"i\": 2, \"love\": 1, \"books\": 2, \"are\": 1, \"important\": 1, \"part\": 1, \"like\": 1, \"to\": 1, \"play\": 1, \"games\": 1}',\n",
       " 'word_docs': '{\"books\": 2, \"love\": 1, \"i\": 2, \"are\": 1, \"part\": 1, \"important\": 1, \"like\": 1, \"to\": 1, \"play\": 1, \"games\": 1}',\n",
       " 'index_docs': '{\"2\": 2, \"3\": 1, \"1\": 2, \"4\": 1, \"6\": 1, \"5\": 1, \"7\": 1, \"8\": 1, \"9\": 1, \"10\": 1}',\n",
       " 'index_word': '{\"1\": \"i\", \"2\": \"books\", \"3\": \"love\", \"4\": \"are\", \"5\": \"important\", \"6\": \"part\", \"7\": \"like\", \"8\": \"to\", \"9\": \"play\", \"10\": \"games\"}',\n",
       " 'word_index': '{\"i\": 1, \"books\": 2, \"love\": 3, \"are\": 4, \"important\": 5, \"part\": 6, \"like\": 7, \"to\": 8, \"play\": 9, \"games\": 10}'}"
      ]
     },
     "execution_count": 43,
     "metadata": {},
     "output_type": "execute_result"
    }
   ],
   "source": [
    "tokenizer.get_config()"
   ]
  },
  {
   "cell_type": "code",
   "execution_count": 41,
   "metadata": {},
   "outputs": [
    {
     "data": {
      "text/plain": [
       "[[1, 3]]"
      ]
     },
     "execution_count": 41,
     "metadata": {},
     "output_type": "execute_result"
    }
   ],
   "source": [
    "tokenizer.texts_to_sequences([\"i my love\"])"
   ]
  },
  {
   "cell_type": "code",
   "execution_count": 48,
   "metadata": {},
   "outputs": [
    {
     "name": "stdout",
     "output_type": "stream",
     "text": [
      "i love books\n",
      "books are important part\n",
      "i like to play games\n"
     ]
    }
   ],
   "source": [
    "for x in tokenizer.sequences_to_texts_generator(sequence):\n",
    "    print(x)"
   ]
  },
  {
   "cell_type": "code",
   "execution_count": 49,
   "metadata": {},
   "outputs": [
    {
     "data": {
      "text/plain": [
       "[[1, 3, 2], [2, 4, 5, 6], [1, 7, 8, 9, 10]]"
      ]
     },
     "execution_count": 49,
     "metadata": {},
     "output_type": "execute_result"
    }
   ],
   "source": [
    "sequence"
   ]
  },
  {
   "cell_type": "code",
   "execution_count": 62,
   "metadata": {},
   "outputs": [
    {
     "data": {
      "text/plain": [
       "array([[ 0,  0,  1,  3,  2],\n",
       "       [ 0,  2,  4,  5,  6],\n",
       "       [ 1,  7,  8,  9, 10]], dtype=int32)"
      ]
     },
     "execution_count": 62,
     "metadata": {},
     "output_type": "execute_result"
    }
   ],
   "source": [
    "# pad sequences to same length \n",
    "data = pad_sequences(sequence)\n",
    "data"
   ]
  },
  {
   "cell_type": "code",
   "execution_count": 63,
   "metadata": {},
   "outputs": [
    {
     "data": {
      "text/plain": [
       "array([[ 1,  3,  2,  0,  0],\n",
       "       [ 2,  4,  5,  6,  0],\n",
       "       [ 1,  7,  8,  9, 10]], dtype=int32)"
      ]
     },
     "execution_count": 63,
     "metadata": {},
     "output_type": "execute_result"
    }
   ],
   "source": [
    "# pad sequences to same length \n",
    "data = pad_sequences(sequence,padding='post')\n",
    "data"
   ]
  },
  {
   "cell_type": "code",
   "execution_count": 65,
   "metadata": {},
   "outputs": [
    {
     "data": {
      "text/plain": [
       "array([[ 1,  3,  2,  0,  0,  0],\n",
       "       [ 2,  4,  5,  6,  0,  0],\n",
       "       [ 1,  7,  8,  9, 10,  0]], dtype=int32)"
      ]
     },
     "execution_count": 65,
     "metadata": {},
     "output_type": "execute_result"
    }
   ],
   "source": [
    "# pad sequences to same length \n",
    "data = pad_sequences(sequence,maxlen=6,padding='post')\n",
    "data"
   ]
  },
  {
   "cell_type": "code",
   "execution_count": null,
   "metadata": {},
   "outputs": [
    {
     "data": {
      "text/plain": [
       "array([[0, 1, 3, 2],\n",
       "       [2, 4, 5, 6],\n",
       "       [1, 7, 8, 9]], dtype=int32)"
      ]
     },
     "execution_count": 68,
     "metadata": {},
     "output_type": "execute_result"
    }
   ],
   "source": [
    "# pad sequences to same length \n",
    "data = pad_sequences(sequence,maxlen=4,truncating='post')\n",
    "data "
   ]
  },
  {
   "cell_type": "code",
   "execution_count": 67,
   "metadata": {},
   "outputs": [
    {
     "data": {
      "text/plain": [
       "[[1, 3, 2], [2, 4, 5, 6], [1, 7, 8, 9, 10]]"
      ]
     },
     "execution_count": 67,
     "metadata": {},
     "output_type": "execute_result"
    }
   ],
   "source": [
    "sequence"
   ]
  },
  {
   "cell_type": "code",
   "execution_count": null,
   "metadata": {},
   "outputs": [],
   "source": []
  }
 ],
 "metadata": {
  "kernelspec": {
   "display_name": "base",
   "language": "python",
   "name": "python3"
  },
  "language_info": {
   "codemirror_mode": {
    "name": "ipython",
    "version": 3
   },
   "file_extension": ".py",
   "mimetype": "text/x-python",
   "name": "python",
   "nbconvert_exporter": "python",
   "pygments_lexer": "ipython3",
   "version": "3.12.4"
  }
 },
 "nbformat": 4,
 "nbformat_minor": 2
}
